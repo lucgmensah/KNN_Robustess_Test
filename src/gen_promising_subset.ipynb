{
 "cells": [
  {
   "cell_type": "markdown",
   "metadata": {},
   "source": []
  },
  {
   "cell_type": "code",
   "execution_count": null,
   "metadata": {},
   "outputs": [],
   "source": [
    "from scipy.spatial import KDTree\n",
    "import numpy as np\n",
    "from itertools import combinations\n",
    "from collections import Counter"
   ]
  },
  {
   "cell_type": "code",
   "execution_count": null,
   "metadata": {},
   "outputs": [],
   "source": [
    "def nearNeighborsSet(data, k, input_x, n=0, y=None):\n",
    "    \"\"\"\n",
    "    Identifie les k+n voisins les plus proches de input_x dans data en utilisant un KDTree.\n",
    "    \"\"\"\n",
    "    # Séparation des vecteurs de caractéristiques et des étiquettes\n",
    "    features = [point[0] for point in data]\n",
    "    labels = [point[1] for point in data]\n",
    "\n",
    "    # Construction de KDTree avec seulement les vecteurs de caractéristiques\n",
    "    tree = KDTree(features)\n",
    "    dists, indices = tree.query([input_x], k=k+n)\n",
    "    \n",
    "    # Récupération des voisins en utilisant les indices retournés par KDTree\n",
    "    neighbors = [(features[i], labels[i]) for i in indices[0]]\n",
    "\n",
    "    if y is not None and n > 0:\n",
    "        neighbors_without_y = [neighbor for neighbor in neighbors if neighbor[1] != y]\n",
    "        if len(neighbors_without_y) < k:\n",
    "            neighbors_with_y = [neighbor for neighbor in neighbors if neighbor[1] == y][:k - len(neighbors_without_y)]\n",
    "            neighbors = neighbors_without_y + neighbors_with_y\n",
    "        else:\n",
    "            neighbors = neighbors_without_y[:k]\n",
    "    else:\n",
    "        neighbors = neighbors[:k+n]\n",
    "        \n",
    "    return neighbors\n"
   ]
  },
  {
   "cell_type": "code",
   "execution_count": null,
   "metadata": {},
   "outputs": [],
   "source": [
    "def mostFreqLabel(data, k, input_x, y=None, n=0):\n",
    "    \"\"\"\n",
    "    Trouve l'étiquette la plus fréquente parmi les k+n voisins les plus proches.\n",
    "    \"\"\"\n",
    "    neighbors = nearNeighborsSet(data, k, input_x, n=n, y=y)\n",
    "    labels = [neighbor[1] for neighbor in neighbors]\n",
    "    most_common_label = Counter(labels).most_common(1)[0][0]\n",
    "    return most_common_label\n",
    "\n"
   ]
  },
  {
   "cell_type": "code",
   "execution_count": null,
   "metadata": {},
   "outputs": [],
   "source": [
    "def generateSubsetsR1(data, k, input_x, n, min_rmv):\n",
    "    \"\"\"\n",
    "    Génère des sous-ensembles R1 à partir des k+n éléments les plus proches de x.\n",
    "    \"\"\"\n",
    "    nearest_neighbors = nearNeighborsSet(data, k, input_x, n=n)\n",
    "    subsets_r1 = [list(subset) for r in range(min_rmv, len(nearest_neighbors) + 1)\n",
    "                                  for subset in combinations(nearest_neighbors, r)]\n",
    "    return subsets_r1\n",
    "\n"
   ]
  },
  {
   "cell_type": "code",
   "execution_count": null,
   "metadata": {},
   "outputs": [],
   "source": [
    "def generateSubsetsR2(data, k, input_x, n, len_r1):\n",
    "    \"\"\"\n",
    "    Supprime d'abord tous les k+n éléments les plus proches de x dans data, puis crée tous les sous-ensembles\n",
    "    d'au plus n-len(r1) éléments avec le nouvel ensemble de données.\n",
    "    \"\"\"\n",
    "    nearest_neighbors = nearNeighborsSet(data, k, input_x, n=n)\n",
    "    \n",
    "    # Utiliser la conversion en tuple pour la comparaison et éviter l'erreur\n",
    "    reduced_data =  [x for x in data if not any(np.array_equal(x, element) for element in nearest_neighbors)]\n",
    "    \n",
    "    max_subset_size = n - len_r1\n",
    "    subsets_r2 = []\n",
    "    for r in range(1, max_subset_size + 1):\n",
    "        for subset in combinations(reduced_data, r):\n",
    "            subsets_r2.append(subset)\n",
    "    return subsets_r2\n"
   ]
  },
  {
   "cell_type": "code",
   "execution_count": null,
   "metadata": {},
   "outputs": [],
   "source": [
    "def GenPromisingSubset(data, input_x, n, y, K):\n",
    "    \"\"\"\n",
    "    Utilise une recherche binaire pour trouver min_rmv, puis génère des sous-ensembles R1 et R2.\n",
    "    \"\"\"\n",
    "    promising_subsets = []\n",
    "    Kset = K  # Ensemble des valeurs de K à considérer\n",
    "\n",
    "    for k in Kset:\n",
    "      \n",
    "        # Initialiser les variables pour la recherche binaire\n",
    "        start, end = 1, n  # On commence à 1 car 0 ne changerait pas l'ensemble des voisins\n",
    "\n",
    "        # Recherche binaire pour trouver le min_rmv optimal\n",
    "        while start <= end:\n",
    "            mid = (start + end) // 2\n",
    "            if y == mostFreqLabel(data, k, input_x, y, mid):\n",
    "                start = mid + 1\n",
    "            else:\n",
    "                end = mid - 1\n",
    "\n",
    "        min_rmv = start  # Le nombre minimal de suppressions pour changer la prédiction\n",
    "\n",
    "        # Générer des sous-ensembles R1 avec au moins min_rmv éléments\n",
    "        subsets_r1 = generateSubsetsR1(data, k, input_x, n, min_rmv)\n",
    "\n",
    "        for r1 in subsets_r1:\n",
    "            # Générer des sous-ensembles R2 avec le reste des données, jusqu'à n-len(r1) éléments\n",
    "            subsets_r2 = generateSubsetsR2(data, k, input_x, n, len(r1))\n",
    "            \n",
    "            for r2 in subsets_r2:\n",
    "                # Combinaison de R1 et R2 pour former un sous-ensemble prometteur\n",
    "                R = r1 + list(r2)\n",
    "                # Retirer les éléments de R de l'ensemble de données original pour obtenir le sous-ensemble final\n",
    "                T_without_R = [x for x in data if not any(np.array_equal(x, element) for element in R)]\n",
    "\n",
    "                promising_subsets.append(T_without_R)\n",
    "    \n",
    "    return promising_subsets\n"
   ]
  },
  {
   "cell_type": "code",
   "execution_count": null,
   "metadata": {},
   "outputs": [],
   "source": [
    "# from sklearn.datasets import load_iris\n",
    "# X, y = load_iris(return_X_y=True)\n",
    "\n",
    "# # Créer une liste de paires (x, y) à partir de X et y\n",
    "\n",
    "# xy = list(zip(X, y))\n",
    "# # print((xy))\n",
    "\n",
    "# # Afficher les 5 premières paires\n",
    "# print(len(GenPromisingSubset(data=xy[:149], input_x=[4.9, 3. , 1.4, 0.2], n=3, y='0', K=[3, 5, 7])))\n"
   ]
  }
 ],
 "metadata": {
  "kernelspec": {
   "display_name": "Python 3",
   "language": "python",
   "name": "python3"
  },
  "language_info": {
   "codemirror_mode": {
    "name": "ipython",
    "version": 3
   },
   "file_extension": ".py",
   "mimetype": "text/x-python",
   "name": "python",
   "nbconvert_exporter": "python",
   "pygments_lexer": "ipython3",
   "version": "3.12.0"
  }
 },
 "nbformat": 4,
 "nbformat_minor": 2
}
