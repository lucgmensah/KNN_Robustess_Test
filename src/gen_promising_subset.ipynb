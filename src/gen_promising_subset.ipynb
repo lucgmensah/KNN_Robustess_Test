{
 "cells": [
  {
   "cell_type": "markdown",
   "metadata": {},
   "source": []
  },
  {
   "cell_type": "code",
   "execution_count": 1,
   "metadata": {},
   "outputs": [
    {
     "name": "stdout",
     "output_type": "stream",
     "text": [
      "[([5.1, 6.2], 'Triangle'), ([2.5, 4.8], 'Star')]\n",
      "Triangle\n",
      "--- Triangle ---\n",
      "False\n"
     ]
    },
    {
     "data": {
      "image/png": "[encoded data removed]",
      "text/plain": [
       "<Figure size 640x480 with 1 Axes>"
      ]
     },
     "metadata": {},
     "output_type": "display_data"
    }
   ],
   "source": [
    "from ipynb.fs.full.quick_certify import nearNeighborsSet, mostFreqLabel"
   ]
  },
  {
   "cell_type": "code",
   "execution_count": null,
   "metadata": {},
   "outputs": [],
   "source": [
    "import itertools\n",
    "\n",
    "def generate_subsets(data, k, input_x, n=0, min_rmv=0):\n",
    "    \"\"\"\n",
    "    Generates all subsets of the input_set.\n",
    "    Args:\n",
    "        input_set (set): The input set for which subsets need to be generated.\n",
    "    Returns:\n",
    "        list: A list of sets representing all subsets of the input_set.\n",
    "    \"\"\"\n",
    "    \n",
    "    input_set = nearNeighborsSet(data = data, k = k, input_x = input_x, n = n)\n",
    "    \n",
    "    all_subsets = []\n",
    "    taille = len(input_set)\n",
    "    for k in range(min_rmv, taille + 1):\n",
    "        # Generate all combinations of size k from the input_set\n",
    "        \n",
    "        subsets_of_size_k = itertools.combinations(input_set, k)\n",
    "        all_subsets.extend(map(list, subsets_of_size_k))\n",
    "        \n",
    "    return all_subsets\n",
    "\n",
    "\n",
    "data = [\n",
    "    ([1.2, 3.5], 'Star'),\n",
    "    ([2.5, 4.8], 'Star'),\n",
    "    ([3.7, 2.1], 'Star'),\n",
    "    ([5.1, 6.2], 'Triangle'),\n",
    "    ([6.9, 1.8], 'Triangle'),\n",
    "    ([7.5, 5.5], 'Triangle'),\n",
    "    ([9.2, 8.1], 'Star'),\n",
    "    ([8.5, 7.4], 'Triangle'),\n",
    "    ([0.5, 1.9], 'Star')\n",
    "]\n",
    "n = 2\n",
    "k = 2\n",
    "input_x = [5, 4.5]\n",
    "resulting_subsets = generate_subsets(data, k, input_x, n=1)\n",
    "for subset in resulting_subsets:\n",
    "    print(subset)\n"
   ]
  },
  {
   "cell_type": "code",
   "execution_count": null,
   "metadata": {},
   "outputs": [],
   "source": [
    "def GenPromisingSubset(data, n, input_x, y):\n",
    "    Kset = []\n",
    "    for k in Kset:\n",
    "        start = 0\n",
    "        end = n+1\n",
    "        \n",
    "        while start < end:\n",
    "            mid = (start + end) // 2 # On prend la partie entiere du milieu\n",
    "            if y != mostFreqLabel(data=data, k=k, input_x=input_x, y=y, n=mid)\n",
    "                end = mid\n",
    "            else:\n",
    "                start = mid + 1\n",
    "        \n",
    "        min_rmv = start\n",
    "        \n",
    "        if min_rmv <= n:\n",
    "            for subset in generate_subsets(data, k, input_x, n=min_rmv):\n",
    "                pass\n",
    "                \n",
    "                \n",
    "                \n",
    "                \n",
    "                "
   ]
  }
 ],
 "metadata": {
  "kernelspec": {
   "display_name": "Python 3",
   "language": "python",
   "name": "python3"
  },
  "language_info": {
   "codemirror_mode": {
    "name": "ipython",
    "version": 3
   },
   "file_extension": ".py",
   "mimetype": "text/x-python",
   "name": "python",
   "nbconvert_exporter": "python",
   "pygments_lexer": "ipython3",
   "version": "3.12.0"
  }
 },
 "nbformat": 4,
 "nbformat_minor": 2
}
