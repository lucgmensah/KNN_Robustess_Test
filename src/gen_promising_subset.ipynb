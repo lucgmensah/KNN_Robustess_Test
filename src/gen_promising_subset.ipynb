{
 "cells": [
  {
   "cell_type": "markdown",
   "metadata": {},
   "source": []
  },
  {
   "cell_type": "code",
   "execution_count": 54,
   "metadata": {},
   "outputs": [],
   "source": [
    "from ipynb.fs.full.quick_certify import nearNeighborsSet, mostFreqLabel"
   ]
  },
  {
   "cell_type": "code",
   "execution_count": 55,
   "metadata": {},
   "outputs": [],
   "source": [
    "import itertools\n",
    "\n",
    "def generateSubsetsR1(data, k, input_x, n, min_rmv=0):\n",
    "    \"\"\"\n",
    "    Generates all subsets of the input_set.\n",
    "    \n",
    "    Returns:\n",
    "        list: A list of sets representing all subsets of the input_set.\n",
    "    \"\"\"\n",
    "    \n",
    "    input_set = nearNeighborsSet(data = data, k = k, input_x = input_x, n = n)\n",
    "    \n",
    "    all_subsets = []\n",
    "    taille = len(input_set)\n",
    "    for k in range(min_rmv, taille + 1):\n",
    "        # Generate all combinations of size k from the input_set\n",
    "        \n",
    "        subsets_of_size_k = itertools.combinations(input_set, k)\n",
    "        all_subsets.extend(map(list, subsets_of_size_k))\n",
    "        \n",
    "    return all_subsets\n",
    "\n",
    "\n",
    "# data = [\n",
    "#     ([1.2, 3.5], 'Star'),\n",
    "#     ([2.5, 4.8], 'Star'),\n",
    "#     ([3.7, 2.1], 'Star'),\n",
    "#     ([5.1, 6.2], 'Triangle'),\n",
    "#     ([6.9, 1.8], 'Triangle'),\n",
    "#     ([7.5, 5.5], 'Triangle'),\n",
    "#     ([9.2, 8.1], 'Star'),\n",
    "#     ([8.5, 7.4], 'Triangle'),\n",
    "#     ([0.5, 1.9], 'Star')\n",
    "# ]\n",
    "# n = 2\n",
    "# k = 2\n",
    "# input_x = [5, 4.5]\n",
    "# resulting_subsets = generateSubsetsR1(data, k, input_x, n=1)\n",
    "# for subset in resulting_subsets:\n",
    "#     print(subset)\n"
   ]
  },
  {
   "cell_type": "code",
   "execution_count": 56,
   "metadata": {},
   "outputs": [
    {
     "name": "stdout",
     "output_type": "stream",
     "text": [
      "incre\n",
      "[[([1.2, 3.5], 'Star')], [([2.5, 4.8], 'Star')], [([3.7, 2.1], 'Star')], [([6.9, 1.8], 'Triangle')], [([0.5, 1.9], 'Star')]]\n"
     ]
    }
   ],
   "source": [
    "import numpy as np\n",
    "import itertools\n",
    "import copy  # Assuming you need to create a deep copy\n",
    "\n",
    "def generateSubsetsR2(data, k, input_x, n, len_r2):\n",
    "    \"\"\"\n",
    "    Generates all subsets of the input_set.\n",
    "\n",
    "    Returns:\n",
    "        list: A list of sets representing all subsets of the input_set.\n",
    "    \"\"\"\n",
    "\n",
    "    nearDataSet = nearNeighborsSet(data=data, k=k, input_x=input_x, n=n)\n",
    "    \n",
    "    # input_set = [x for x in data if not np.any(x == element for element in nearDataSet)]\n",
    "    # input_set = [x for x in data if not np.any(set(x) == set(element) for element in nearDataSet)]\n",
    "    input_set = [x for x in data if not any(np.array_equal(x[0], element[0]) and x[1] == element[1] for element in nearDataSet)]\n",
    "\n",
    "    all_subsets = []\n",
    "\n",
    "    for incre in range(1, n - len_r2 + 1):\n",
    "        print('incre')\n",
    "        # Generate all combinations of size k from the input_set using itertools.combinations\n",
    "        subsets_of_size_k = itertools.combinations(input_set, incre)\n",
    "        all_subsets.extend(map(list, subsets_of_size_k))\n",
    "\n",
    "    return all_subsets\n",
    "\n",
    "# from sklearn.datasets import load_iris\n",
    "# X, y = load_iris(return_X_y=True)\n",
    "\n",
    "# # Créer une liste de paires (x, y) à partir de X et y\n",
    "# xy = list(zip(X, y))\n",
    "data = [\n",
    "    ([1.2, 3.5], 'Star'),\n",
    "    ([2.5, 4.8], 'Star'),\n",
    "    ([3.7, 2.1], 'Star'),\n",
    "    ([5.1, 6.2], 'Triangle'),\n",
    "    ([6.9, 1.8], 'Triangle'),\n",
    "    ([7.5, 5.5], 'Triangle'),\n",
    "    ([9.2, 8.1], 'Star'),\n",
    "    ([8.5, 7.4], 'Triangle'),\n",
    "    ([0.5, 1.9], 'Star')\n",
    "]\n",
    "\n",
    "print(generateSubsetsR2(data, 2, [9.2, 8.1], 2, len_r2=1))\n"
   ]
  },
  {
   "cell_type": "code",
   "execution_count": 57,
   "metadata": {},
   "outputs": [],
   "source": [
    "def GenPromisingSubset(data, n, x, y):\n",
    "    Kset = [2, 4, 6, 8, 10]\n",
    "    reduced_set = []\n",
    "\n",
    "    for k in Kset:\n",
    "        start = 0\n",
    "        end = n+1\n",
    "        \n",
    "        while start < end:\n",
    "            mid = (start + end) // 2 # On prend la partie entiere du milieu\n",
    "            # print('mid = ', mid)\n",
    "            # print(k, \"/\", x, \"/\",  y, \"/\", mid)\n",
    "            # print(y, mostFreqLabel(data=data, k=k, input_x=x, y=y, n=mid))\n",
    "            if y != mostFreqLabel(data=data, k=k, input_x=x, y=y, n=mid):\n",
    "                end = mid\n",
    "                # print('end = ', end)\n",
    "            else:\n",
    "                start = mid + 1\n",
    "                # print('start = ', start)\n",
    "        \n",
    "        min_rmv = start\n",
    "        # print(min_rmv, n)\n",
    "        # print(type(min_rmv), type(n))\n",
    "        # print(min_rmv <= n)\n",
    "        if (min_rmv <= n):\n",
    "            # print('first step')\n",
    "            \n",
    "            for subsetR1 in generateSubsetsR1(data, k, x, n=n, min_rmv=min_rmv):\n",
    "                # print('subset1 = ', subsetR1)\n",
    "                # print(generateSubsetsR2(data, k, x, n, len_r2=len(subsetR1)))\n",
    "                for subsetR2 in generateSubsetsR2(data, k, x, n, len_r2=len(subsetR1)):\n",
    "                    R = subsetR1 + subsetR2\n",
    "                    # print(R)\n",
    "                    # print(R)\n",
    "                    # reduced_set = [w for w in data if w not in R]\n",
    "                    reduced_set = [w for w in data if not any(np.array_equal(w[0], element[0]) and w[1] == element[1] for element in R)]\n",
    "\n",
    "    return reduced_set\n",
    "\n"
   ]
  },
  {
   "cell_type": "code",
   "execution_count": 2,
   "metadata": {},
   "outputs": [
    {
     "ename": "NameError",
     "evalue": "name 'GenPromisingSubset' is not defined",
     "output_type": "error",
     "traceback": [
      "\u001b[1;31m---------------------------------------------------------------------------\u001b[0m",
      "\u001b[1;31mNameError\u001b[0m                                 Traceback (most recent call last)",
      "Cell \u001b[1;32mIn[2], line 9\u001b[0m\n\u001b[0;32m      5\u001b[0m xy \u001b[38;5;241m=\u001b[39m \u001b[38;5;28mlist\u001b[39m(\u001b[38;5;28mzip\u001b[39m(X, y))\n\u001b[0;32m      6\u001b[0m \u001b[38;5;66;03m# print((xy))\u001b[39;00m\n\u001b[0;32m      7\u001b[0m \n\u001b[0;32m      8\u001b[0m \u001b[38;5;66;03m# Afficher les 5 premières paires\u001b[39;00m\n\u001b[1;32m----> 9\u001b[0m \u001b[38;5;28mprint\u001b[39m(\u001b[43mGenPromisingSubset\u001b[49m(data\u001b[38;5;241m=\u001b[39mxy, n\u001b[38;5;241m=\u001b[39m\u001b[38;5;241m50\u001b[39m, x\u001b[38;5;241m=\u001b[39m[\u001b[38;5;241m5.1\u001b[39m, \u001b[38;5;241m3.5\u001b[39m, \u001b[38;5;241m1.4\u001b[39m, \u001b[38;5;241m0.2\u001b[39m], y\u001b[38;5;241m=\u001b[39m\u001b[38;5;241m0\u001b[39m))\n",
      "\u001b[1;31mNameError\u001b[0m: name 'GenPromisingSubset' is not defined"
     ]
    }
   ],
   "source": [
    "from sklearn.datasets import load_iris\n",
    "X, y = load_iris(return_X_y=True)\n",
    "\n",
    "# Créer une liste de paires (x, y) à partir de X et y\n",
    "xy = list(zip(X, y))\n",
    "# print((xy))\n",
    "\n",
    "# Afficher les 5 premières paires\n",
    "print(GenPromisingSubset(data=xy, n=50, x=[5.1, 3.5, 1.4, 0.2], y=0))\n"
   ]
  },
  {
   "cell_type": "code",
   "execution_count": null,
   "metadata": {},
   "outputs": [],
   "source": [
    "import numpy as np\n",
    "from scipy.spatial import distance\n",
    "\n",
    "from sklearn.datasets import load_iris\n",
    "\n",
    "# data = [\n",
    "#     ([1.2, 3.5], 'Star'),\n",
    "#     ([2.5, 4.8], 'Star'),\n",
    "#     ([3.7, 2.1], 'Star'),\n",
    "#     ([5.1, 6.2], 'Triangle'),\n",
    "#     ([6.9, 1.8], 'Triangle'),\n",
    "#     ([7.5, 5.5], 'Triangle'),\n",
    "#     ([9.2, 8.1], 'Star'),\n",
    "#     ([8.5, 7.4], 'Triangle'),\n",
    "#     ([0.5, 1.9], 'Star')\n",
    "# ]\n",
    "\n",
    "X, y = load_iris(return_X_y=True)\n",
    "\n",
    "# Créer une liste de paires (x, y) à partir de X et y\n",
    "xy = list(zip(X, y))\n",
    "\n",
    "# Afficher le résultat\n",
    "print(distance.euclidean(xy[0][0], xy[0][0]))\n",
    "print(np.array_equal(np.array(xy[0][0]), np.array(xy[0][0])))"
   ]
  }
 ],
 "metadata": {
  "kernelspec": {
   "display_name": "Python 3",
   "language": "python",
   "name": "python3"
  },
  "language_info": {
   "codemirror_mode": {
    "name": "ipython",
    "version": 3
   },
   "file_extension": ".py",
   "mimetype": "text/x-python",
   "name": "python",
   "nbconvert_exporter": "python",
   "pygments_lexer": "ipython3",
   "version": "3.12.0"
  }
 },
 "nbformat": 4,
 "nbformat_minor": 2
}
