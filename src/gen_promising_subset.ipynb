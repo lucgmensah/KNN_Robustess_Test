{
 "cells": [
  {
   "cell_type": "markdown",
   "metadata": {},
   "source": []
  },
  {
   "cell_type": "code",
   "execution_count": 11,
   "metadata": {},
   "outputs": [],
   "source": [
    "from ipynb.fs.full.quick_certify import nearNeighborsSet, mostFreqLabel"
   ]
  },
  {
   "cell_type": "code",
   "execution_count": 12,
   "metadata": {},
   "outputs": [],
   "source": [
    "import itertools\n",
    "\n",
    "def generateSubsetsR1(data, k, input_x, n, min_rmv=0):\n",
    "    \"\"\"\n",
    "    Generates all subsets of the input_set.\n",
    "    \n",
    "    Returns:\n",
    "        list: A list of sets representing all subsets of the input_set.\n",
    "    \"\"\"\n",
    "    \n",
    "    input_set = nearNeighborsSet(data = data, k = k, input_x = input_x, n = n)\n",
    "    \n",
    "    all_subsets = []\n",
    "    taille = len(input_set)\n",
    "    for k in range(min_rmv, taille + 1):\n",
    "        # Generate all combinations of size k from the input_set\n",
    "        \n",
    "        subsets_of_size_k = itertools.combinations(input_set, k)\n",
    "        all_subsets.extend(map(list, subsets_of_size_k))\n",
    "        \n",
    "    return all_subsets\n",
    "\n",
    "\n",
    "# data = [\n",
    "#     ([1.2, 3.5], 'Star'),\n",
    "#     ([2.5, 4.8], 'Star'),\n",
    "#     ([3.7, 2.1], 'Star'),\n",
    "#     ([5.1, 6.2], 'Triangle'),\n",
    "#     ([6.9, 1.8], 'Triangle'),\n",
    "#     ([7.5, 5.5], 'Triangle'),\n",
    "#     ([9.2, 8.1], 'Star'),\n",
    "#     ([8.5, 7.4], 'Triangle'),\n",
    "#     ([0.5, 1.9], 'Star')\n",
    "# ]\n",
    "# n = 2\n",
    "# k = 2\n",
    "# input_x = [5, 4.5]\n",
    "# resulting_subsets = generateSubsetsR1(data, k, input_x, n=1)\n",
    "# for subset in resulting_subsets:\n",
    "#     print(subset)\n"
   ]
  },
  {
   "cell_type": "code",
   "execution_count": 26,
   "metadata": {},
   "outputs": [
    {
     "name": "stdout",
     "output_type": "stream",
     "text": [
      "[]\n"
     ]
    }
   ],
   "source": [
    "import numpy as np\n",
    "import itertools\n",
    "import copy  # Assuming you need to create a deep copy\n",
    "\n",
    "def generateSubsetsR2(data, k, input_x, n, len_r2):\n",
    "    \"\"\"\n",
    "    Generates all subsets of the input_set.\n",
    "\n",
    "    Returns:\n",
    "        list: A list of sets representing all subsets of the input_set.\n",
    "    \"\"\"\n",
    "\n",
    "    nearDataSet = nearNeighborsSet(data=data, k=k, input_x=input_x, n=n)\n",
    "    \n",
    "    # input_set = [x for x in data if not np.any(x == element for element in nearDataSet)]\n",
    "    # input_set = [x for x in data if not np.any(set(x) == set(element) for element in nearDataSet)]\n",
    "    input_set = [x for x in data if not any(np.array_equal(x, element) for element in nearDataSet)]\n",
    "\n",
    "\n",
    "    all_subsets = []\n",
    "\n",
    "    for k in range(1, n - len_r2):\n",
    "        # Generate all combinations of size k from the input_set using itertools.combinations\n",
    "        subsets_of_size_k = itertools.combinations(input_set, k)\n",
    "        all_subsets.extend(map(list, subsets_of_size_k))\n",
    "\n",
    "    return all_subsets\n",
    "\n",
    "from sklearn.datasets import load_iris\n",
    "X, y = load_iris(return_X_y=True)\n",
    "\n",
    "# Créer une liste de paires (x, y) à partir de X et y\n",
    "xy = list(zip(X, y))\n",
    "\n",
    "print(generateSubsetsR2(xy, 10, [5.1, 3.5, 1.4, 0.2], 2, len_r2=2))\n"
   ]
  },
  {
   "cell_type": "code",
   "execution_count": null,
   "metadata": {},
   "outputs": [],
   "source": [
    "def GenPromisingSubset(data, n, x, y):\n",
    "    Kset = [1, 2, 3]\n",
    "    reduced_set = []\n",
    "\n",
    "    for k in Kset:\n",
    "        start = 0\n",
    "        end = n+1\n",
    "        \n",
    "        while start < end:\n",
    "            mid = (start + end) // 2 # On prend la partie entiere du milieu\n",
    "            # print(k, \"/\", x, \"/\",  y, \"/\", mid)\n",
    "            # print(mostFreqLabel(data=data, k=k, input_x=x, y='0', n=mid))\n",
    "            if y != mostFreqLabel(data=data, k=k, input_x=x, y='0', n=mid):\n",
    "                end = mid\n",
    "            else:\n",
    "                start = mid + 1\n",
    "        \n",
    "        min_rmv = start\n",
    "        print('start = ', start, 'end = ', end, 'mid = ', mid, 'n = ', n)\n",
    "        print(min_rmv <= n)\n",
    "        if (True):\n",
    "            print('first step')\n",
    "            \n",
    "            for subsetR1 in generateSubsetsR1(data, k, x, n=n, min_rmv=min_rmv):\n",
    "                print(generateSubsetsR2(data, k, x, n, len_r2=len(subsetR1)))\n",
    "                for subsetR2 in generateSubsetsR2(data, k, x, n, len_r2=len(subsetR1)):\n",
    "                    R = subsetR1 + subsetR2\n",
    "                    print(R)\n",
    "                    # print(R)\n",
    "                    reduced_set = [w for w in data if w not in R]\n",
    "\n",
    "    return reduced_set\n",
    "\n",
    "from sklearn.datasets import load_iris\n",
    "X, y = load_iris(return_X_y=True)\n",
    "\n",
    "# Créer une liste de paires (x, y) à partir de X et y\n",
    "xy = list(zip(X, y))\n",
    "# print((xy))\n",
    "\n",
    "# Afficher les 5 premières paires\n",
    "print(GenPromisingSubset(data=xy, n=1, x=[5.1, 3.5, 1.4, 0.2], y=0))\n"
   ]
  },
  {
   "cell_type": "code",
   "execution_count": 25,
   "metadata": {},
   "outputs": [
    {
     "name": "stdout",
     "output_type": "stream",
     "text": [
      "[]\n"
     ]
    }
   ],
   "source": [
    "from sklearn.datasets import load_iris\n",
    "X, y = load_iris(return_X_y=True)\n",
    "\n",
    "# Créer une liste de paires (x, y) à partir de X et y\n",
    "xy = list(zip(X, y))\n",
    "# print((xy))\n",
    "\n",
    "# Afficher les 5 premières paires\n",
    "print(GenPromisingSubset(data=xy, n=2, input_x=[5.1, 3.5, 1.4, 0.2], y=0))\n"
   ]
  }
 ],
 "metadata": {
  "kernelspec": {
   "display_name": "Python 3",
   "language": "python",
   "name": "python3"
  },
  "language_info": {
   "codemirror_mode": {
    "name": "ipython",
    "version": 3
   },
   "file_extension": ".py",
   "mimetype": "text/x-python",
   "name": "python",
   "nbconvert_exporter": "python",
   "pygments_lexer": "ipython3",
   "version": "3.12.0"
  }
 },
 "nbformat": 4,
 "nbformat_minor": 2
}
