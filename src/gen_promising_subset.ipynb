{
 "cells": [
  {
   "cell_type": "markdown",
   "metadata": {},
   "source": []
  },
  {
   "cell_type": "code",
   "execution_count": null,
   "metadata": {},
   "outputs": [],
   "source": [
    "from ipynb.fs.full.quick_certify import nearNeighborsSet"
   ]
  },
  {
   "cell_type": "code",
   "execution_count": null,
   "metadata": {},
   "outputs": [],
   "source": [
    "import itertools\n",
    "\n",
    "def generate_subsets(data, k, input_x, n=0):\n",
    "    \"\"\"\n",
    "    Generates all subsets of the input_set.\n",
    "    Args:\n",
    "        input_set (set): The input set for which subsets need to be generated.\n",
    "    Returns:\n",
    "        list: A list of sets representing all subsets of the input_set.\n",
    "    \"\"\"\n",
    "    \n",
    "    input_set = nearNeighborsSet(data, k, input_x, n)\n",
    "    \n",
    "    all_subsets = []\n",
    "    n = len(input_set)\n",
    "    for k in range(n + 1):\n",
    "        # Generate all combinations of size k from the input_set\n",
    "        subsets_of_size_k = itertools.combinations(input_set, k)\n",
    "        all_subsets.extend(map(set, subsets_of_size_k))\n",
    "    return all_subsets\n",
    "\n",
    "# Example usage\n",
    "my_set = {1, 2, 3}\n",
    "resulting_subsets = generate_subsets(my_set)\n",
    "for subset in resulting_subsets:\n",
    "    print(subset)\n"
   ]
  }
 ],
 "metadata": {
  "kernelspec": {
   "display_name": "Python 3",
   "language": "python",
   "name": "python3"
  },
  "language_info": {
   "name": "python",
   "version": "3.12.0"
  }
 },
 "nbformat": 4,
 "nbformat_minor": 2
}
