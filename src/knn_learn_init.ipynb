{
 "cells": [
  {
   "cell_type": "code",
   "execution_count": 2,
   "metadata": {},
   "outputs": [],
   "source": [
    "import random\n",
    "\n",
    "def partition(T, p):\n",
    "    random.shuffle(T)\n",
    "    return [T[i::p] for i in range(p)]"
   ]
  },
  {
   "cell_type": "code",
   "execution_count": 3,
   "metadata": {},
   "outputs": [
    {
     "name": "stdout",
     "output_type": "stream",
     "text": [
      "0\n"
     ]
    }
   ],
   "source": [
    "from scipy.spatial import distance\n",
    "from collections import Counter\n",
    "\n",
    "def knn_predict(training_set, x, Ki):\n",
    "    # Calculer la distance entre x et tous les points dans l'ensemble d'apprentissage\n",
    "    distances = [(x_train, y_train, distance.euclidean(x, x_train)) for x_train, y_train in training_set]\n",
    "    \n",
    "    # Trier l'ensemble d'apprentissage par distance de x\n",
    "    sorted_distances = sorted(distances, key=lambda x: x[2])\n",
    "    \n",
    "    # Prendre les Ki voisins les plus proches\n",
    "    k_nearest_neighbors = sorted_distances[:Ki]\n",
    "    \n",
    "    # Obtenir les étiquettes des Ki voisins les plus proches\n",
    "    k_nearest_labels = [y for x, y, d in k_nearest_neighbors]\n",
    "    \n",
    "    # Retourner l'étiquette la plus commune parmi les Ki voisins les plus proches\n",
    "    return Counter(k_nearest_labels).most_common(1)[0][0]\n",
    "\n",
    "from sklearn.datasets import load_iris\n",
    "X, y = load_iris(return_X_y=True)\n",
    "\n",
    "# # Créer une liste de paires (x, y) à partir de X et y\n",
    "xy = list(zip(X, y))\n",
    "print(knn_predict(xy, X[0], 5))"
   ]
  },
  {
   "cell_type": "code",
   "execution_count": 7,
   "metadata": {},
   "outputs": [
    {
     "name": "stdout",
     "output_type": "stream",
     "text": [
      "(4, [([(array([4.8, 3.4, 1.9, 0.2]), 0), (array([5.8, 2.7, 5.1, 1.9]), 2), (array([5. , 3.5, 1.6, 0.6]), 0), (array([4.7, 3.2, 1.3, 0.2]), 0), (array([6.7, 3.3, 5.7, 2.1]), 2), (array([5.2, 3.5, 1.5, 0.2]), 0), (array([6.4, 3.2, 5.3, 2.3]), 2), (array([5.6, 3. , 4.1, 1.3]), 1), (array([6.3, 2.7, 4.9, 1.8]), 2), (array([5.6, 2.8, 4.9, 2. ]), 2), (array([6.9, 3.1, 5.1, 2.3]), 2), (array([5.7, 2.8, 4.5, 1.3]), 1), (array([6.3, 3.3, 4.7, 1.6]), 1), (array([7.1, 3. , 5.9, 2.1]), 2), (array([6.6, 3. , 4.4, 1.4]), 1), (array([4.8, 3. , 1.4, 0.3]), 0), (array([4.6, 3.1, 1.5, 0.2]), 0), (array([6.7, 3.1, 5.6, 2.4]), 2), (array([7. , 3.2, 4.7, 1.4]), 1), (array([5.4, 3.4, 1.5, 0.4]), 0), (array([4.9, 3.1, 1.5, 0.2]), 0), (array([6.3, 2.5, 5. , 1.9]), 2), (array([4.4, 2.9, 1.4, 0.2]), 0), (array([7.9, 3.8, 6.4, 2. ]), 2), (array([6.2, 2.2, 4.5, 1.5]), 1), (array([5.1, 3.8, 1.9, 0.4]), 0), (array([5.7, 2.5, 5. , 2. ]), 2), (array([5.1, 3.4, 1.5, 0.2]), 0), (array([6.4, 2.9, 4.3, 1.3]), 1), (array([6. , 3. , 4.8, 1.8]), 2), (array([5.1, 3.5, 1.4, 0.3]), 0), (array([4.8, 3.1, 1.6, 0.2]), 0), (array([5.5, 2.3, 4. , 1.3]), 1), (array([6.2, 3.4, 5.4, 2.3]), 2), (array([6.9, 3.1, 4.9, 1.5]), 1), (array([5.4, 3. , 4.5, 1.5]), 1), (array([4.8, 3. , 1.4, 0.1]), 0), (array([5. , 2.3, 3.3, 1. ]), 1)], []), ([(array([5.1, 2.5, 3. , 1.1]), 1), (array([6.4, 2.8, 5.6, 2.2]), 2), (array([6. , 2.2, 4. , 1. ]), 1), (array([5.2, 2.7, 3.9, 1.4]), 1), (array([5.5, 2.4, 3.8, 1.1]), 1), (array([5.7, 3.8, 1.7, 0.3]), 0), (array([6.4, 2.7, 5.3, 1.9]), 2), (array([6.3, 3.3, 6. , 2.5]), 2), (array([6.5, 3. , 5.8, 2.2]), 2), (array([6.2, 2.8, 4.8, 1.8]), 2), (array([5.8, 2.8, 5.1, 2.4]), 2), (array([6.9, 3.1, 5.4, 2.1]), 2), (array([5.1, 3.8, 1.5, 0.3]), 0), (array([5.4, 3.9, 1.3, 0.4]), 0), (array([6.4, 3.1, 5.5, 1.8]), 2), (array([5.7, 3. , 4.2, 1.2]), 1), (array([6.2, 2.9, 4.3, 1.3]), 1), (array([6.1, 3. , 4.9, 1.8]), 2), (array([6.1, 2.9, 4.7, 1.4]), 1), (array([6. , 2.2, 5. , 1.5]), 2), (array([6.9, 3.2, 5.7, 2.3]), 2), (array([5.3, 3.7, 1.5, 0.2]), 0), (array([5. , 3.3, 1.4, 0.2]), 0), (array([7.7, 2.6, 6.9, 2.3]), 2), (array([5.7, 2.6, 3.5, 1. ]), 1), (array([7.2, 3.6, 6.1, 2.5]), 2), (array([5.6, 2.5, 3.9, 1.1]), 1), (array([6.7, 3.3, 5.7, 2.5]), 2), (array([7.2, 3.2, 6. , 1.8]), 2), (array([7.7, 2.8, 6.7, 2. ]), 2), (array([4.9, 3.6, 1.4, 0.1]), 0), (array([5. , 3. , 1.6, 0.2]), 0), (array([4.8, 3.4, 1.6, 0.2]), 0), (array([5.6, 3. , 4.5, 1.5]), 1), (array([6.7, 3. , 5.2, 2.3]), 2), (array([5.7, 2.9, 4.2, 1.3]), 1), (array([4.6, 3.2, 1.4, 0.2]), 0), (array([5.1, 3.7, 1.5, 0.4]), 0)], [(array([6. , 2.2, 5. , 1.5]), 2)]), ([(array([6.7, 3.1, 4.4, 1.4]), 1), (array([6.3, 3.4, 5.6, 2.4]), 2), (array([5.2, 3.4, 1.4, 0.2]), 0), (array([6.7, 3. , 5. , 1.7]), 1), (array([6.6, 2.9, 4.6, 1.3]), 1), (array([4.6, 3.6, 1. , 0.2]), 0), (array([5.5, 2.4, 3.7, 1. ]), 1), (array([6.1, 2.8, 4. , 1.3]), 1), (array([6. , 2.9, 4.5, 1.5]), 1), (array([6.3, 2.5, 4.9, 1.5]), 1), (array([4.5, 2.3, 1.3, 0.3]), 0), (array([5. , 3.4, 1.5, 0.2]), 0), (array([6.7, 3.1, 4.7, 1.5]), 1), (array([6.1, 2.8, 4.7, 1.2]), 1), (array([4.9, 2.4, 3.3, 1. ]), 1), (array([4.3, 3. , 1.1, 0.1]), 0), (array([5.8, 2.7, 5.1, 1.9]), 2), (array([6.1, 3. , 4.6, 1.4]), 1), (array([5.7, 2.8, 4.1, 1.3]), 1), (array([7.2, 3. , 5.8, 1.6]), 2), (array([6.1, 2.6, 5.6, 1.4]), 2), (array([6.3, 2.3, 4.4, 1.3]), 1), (array([4.4, 3. , 1.3, 0.2]), 0), (array([4.9, 3.1, 1.5, 0.1]), 0), (array([5.9, 3.2, 4.8, 1.8]), 1), (array([5.4, 3.7, 1.5, 0.2]), 0), (array([6.8, 3.2, 5.9, 2.3]), 2), (array([5.6, 2.7, 4.2, 1.3]), 1), (array([5. , 3.5, 1.3, 0.3]), 0), (array([4.4, 3.2, 1.3, 0.2]), 0), (array([5.1, 3.8, 1.6, 0.2]), 0), (array([7.6, 3. , 6.6, 2.1]), 2), (array([5. , 2. , 3.5, 1. ]), 1), (array([6.4, 2.8, 5.6, 2.1]), 2), (array([4.9, 3. , 1.4, 0.2]), 0), (array([5.8, 2.6, 4. , 1.2]), 1), (array([5.1, 3.3, 1.7, 0.5]), 0)], [(array([6.3, 2.5, 4.9, 1.5]), 1), (array([5.9, 3.2, 4.8, 1.8]), 1)]), ([(array([5.7, 4.4, 1.5, 0.4]), 0), (array([6.5, 2.8, 4.6, 1.5]), 1), (array([5.8, 4. , 1.2, 0.2]), 0), (array([6.8, 2.8, 4.8, 1.4]), 1), (array([6.8, 3. , 5.5, 2.1]), 2), (array([5.2, 4.1, 1.5, 0.1]), 0), (array([4.7, 3.2, 1.6, 0.2]), 0), (array([5.4, 3.4, 1.7, 0.2]), 0), (array([5.5, 4.2, 1.4, 0.2]), 0), (array([5.5, 2.5, 4. , 1.3]), 1), (array([6.5, 3. , 5.2, 2. ]), 2), (array([5. , 3.2, 1.2, 0.2]), 0), (array([5.4, 3.9, 1.7, 0.4]), 0), (array([6.3, 2.9, 5.6, 1.8]), 2), (array([4.9, 2.5, 4.5, 1.7]), 2), (array([6.4, 3.2, 4.5, 1.5]), 1), (array([5.8, 2.7, 4.1, 1. ]), 1), (array([5.8, 2.7, 3.9, 1.2]), 1), (array([6.7, 2.5, 5.8, 1.8]), 2), (array([5.6, 2.9, 3.6, 1.3]), 1), (array([5.1, 3.5, 1.4, 0.2]), 0), (array([5.9, 3. , 4.2, 1.5]), 1), (array([5. , 3.4, 1.6, 0.4]), 0), (array([4.6, 3.4, 1.4, 0.3]), 0), (array([5.5, 2.6, 4.4, 1.2]), 1), (array([6. , 2.7, 5.1, 1.6]), 1), (array([5.5, 3.5, 1.3, 0.2]), 0), (array([7.4, 2.8, 6.1, 1.9]), 2), (array([5.9, 3. , 5.1, 1.8]), 2), (array([7.3, 2.9, 6.3, 1.8]), 2), (array([5. , 3.6, 1.4, 0.2]), 0), (array([6.3, 2.8, 5.1, 1.5]), 2), (array([6.5, 3. , 5.5, 1.8]), 2), (array([7.7, 3. , 6.1, 2.3]), 2), (array([6.5, 3.2, 5.1, 2. ]), 2), (array([6. , 3.4, 4.5, 1.6]), 1), (array([7.7, 3.8, 6.7, 2.2]), 2)], [(array([4.9, 2.5, 4.5, 1.7]), 2), (array([6. , 2.7, 5.1, 1.6]), 1)])])\n"
     ]
    }
   ],
   "source": [
    "import numpy as np\n",
    "from sklearn.datasets import load_iris\n",
    "\n",
    "\n",
    "def KNNLearnInit(T, p):\n",
    "    # Partitionner l'ensemble d'apprentissage T en p groupes (G1, G2, ..., Gp)\n",
    "    groups = partition(T, p)\n",
    "    \n",
    "    candidate_values = [1, 2, 4, 6]\n",
    "    \n",
    "    errors = {Ki: [0 for _ in range(p)] for Ki in candidate_values}\n",
    "    \n",
    "    errSet = [[[] for _ in range(p)] for _ in candidate_values]\n",
    "    \n",
    "    for Ki in candidate_values:\n",
    "        # Calculer i la position de Ki dans candidate_values\n",
    "        i = candidate_values.index(Ki)\n",
    "        \n",
    "        for j, Gj in enumerate(groups):\n",
    "            for x, y in Gj:\n",
    "                data = [x for x in T if not any(np.array_equal(x[0], element[0]) and x[1] == element[1] for element in Gj)]\n",
    "                if knn_predict(data, x, Ki) != y:\n",
    "                    errSet[i][j].append((x,y))\n",
    "            errors[Ki][j] = len(errSet[i][j]) / len(Gj)\n",
    "            \n",
    "        \n",
    "        errors[Ki] = sum([errors[Ki][j] for j in range(p)]) / p\n",
    "    \n",
    "    # Obtenir Ki avec l'erreur minimale\n",
    "    K_star = min(errors, key=errors.get)\n",
    "    \n",
    "    Error_star = [(groups[j], errSet[candidate_values.index(K_star)][j]) for j in range(p)]\n",
    "    \n",
    "    # for j in range(p):\n",
    "    #     print(\"G\" + str(j+1))\n",
    "    #     print(\"Ki: \", K_star)\n",
    "    #     print(\"Error: \", errors[K_star])\n",
    "    #     print(\"Gj: \", groups[j])\n",
    "    #     print(\"ErrSet: \", errSet[candidate_values.index(K_star)][j])\n",
    "        \n",
    "    # for elt in errors:\n",
    "    #     print(elt, errors[elt])\n",
    "    \n",
    "    return K_star, Error_star\n",
    "            \n",
    "\n",
    "data = [\n",
    "    ([1.2, 3.5], 'Star'),\n",
    "    ([2.5, 4.8], 'Star'),\n",
    "    ([3.7, 2.1], 'Star'),\n",
    "    ([5.1, 6.2], 'Triangle'),\n",
    "    ([6.9, 1.8], 'Triangle'),\n",
    "    ([7.5, 5.5], 'Triangle'),\n",
    "    ([9.2, 8.1], 'Star'),\n",
    "    ([8.5, 7.4], 'Triangle'),\n",
    "    ([0.5, 1.9], 'Star')\n",
    "]\n",
    "\n",
    "# from sklearn.datasets import load_iris\n",
    "X, y = load_iris(return_X_y=True)\n",
    "\n",
    "# # Créer une liste de paires (x, y) à partir de X et y\n",
    "xy = list(zip(X, y))\n",
    "\n",
    "print(KNNLearnInit(xy, 4))"
   ]
  }
 ],
 "metadata": {
  "kernelspec": {
   "display_name": "Python 3",
   "language": "python",
   "name": "python3"
  },
  "language_info": {
   "codemirror_mode": {
    "name": "ipython",
    "version": 3
   },
   "file_extension": ".py",
   "mimetype": "text/x-python",
   "name": "python",
   "nbconvert_exporter": "python",
   "pygments_lexer": "ipython3",
   "version": "3.12.0"
  }
 },
 "nbformat": 4,
 "nbformat_minor": 2
}
