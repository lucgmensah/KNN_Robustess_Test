{
 "cells": [
  {
   "cell_type": "markdown",
   "metadata": {},
   "source": [
    "Il s'agit ici de la fonction QuickCertify qui est la premiere etape de notre methode de Test Systematique de la robustesse des modeles KNN. Ici, a partir de certaines conditions, nous verifions la robustesse. Ces conditions suffisantes sont conçues pour éviter l’étape la plus coûteuse de l’algorithme KNN, qui est la phase d’apprentissage qui s’appuie sur des validations croisées p-fold pour calculer le paramètre K optimal."
   ]
  },
  {
   "cell_type": "code",
   "execution_count": 1,
   "metadata": {},
   "outputs": [
    {
     "name": "stdout",
     "output_type": "stream",
     "text": [
      "[([5.1, 6.2], 'Triangle'), ([7.5, 5.5], 'Triangle')]\n"
     ]
    }
   ],
   "source": [
    "import numpy as np\n",
    "from scipy.spatial import distance\n",
    "\n",
    "def nearNeighborsSet(data, k, input_x, y=None, n=0):\n",
    "    # Calculate the distance between input_x and all points in the data\n",
    "    distances = [(distance.euclidean(input_x, x), x, label) for x, label in data]\n",
    "    \n",
    "    # Calculer le removal set \n",
    "    if y is not None:\n",
    "        \n",
    "        # Sort the distances and get the labels of the k+n nearest neighbors\n",
    "        if n is not None :\n",
    "            # near_neighbors = [(elt[1], elt[2]) for elt in sorted(distances)[:k+n]]\n",
    "            # distances.sort(axis=0)\n",
    "            # near_neighbors = [(elt[1], elt[2]) for elt in distances[:k+n]]\n",
    "            # sorted_distances = np.sort(distances, axis=0)\n",
    "            # near_neighbors = [(elt[1], elt[2]) for elt in sorted_distances[:k+n]]\n",
    "            sorted_distances = sorted(distances, key=lambda x: x[0])\n",
    "            near_neighbors = [(elt[1], elt[2]) for elt in sorted_distances[:k+n]]\n",
    "            # Supprimer n éléments ayant pour label y\n",
    "            count = 0\n",
    "            j = len(near_neighbors) - 1  # Commencer par la fin de la liste\n",
    "            while count < n and j >= 0:\n",
    "                if near_neighbors[j][1] == y:\n",
    "                    near_neighbors.pop(j)\n",
    "                    count += 1\n",
    "                j -= 1\n",
    "        else:\n",
    "            # Erreur dans les parametres de la fonction \n",
    "            raise ValueError(\"Erreur dans les parametres de la fonction\")\n",
    "    else:\n",
    "        sorted_distances = sorted(distances, key=lambda x: x[0])\n",
    "        near_neighbors = [(elt[1], elt[2]) for elt in sorted_distances[:k+n]]\n",
    "\n",
    "    # Return the set of k nearest neighbors\n",
    "    return near_neighbors\n",
    "\n",
    "data = [\n",
    "    ([1.2, 3.5], 'Star'),\n",
    "    ([2.5, 4.8], 'Star'),\n",
    "    ([3.7, 2.1], 'Star'),\n",
    "    ([5.1, 6.2], 'Triangle'),\n",
    "    ([6.9, 1.8], 'Triangle'),\n",
    "    ([7.5, 5.5], 'Triangle'),\n",
    "    ([9.2, 8.1], 'Star'),\n",
    "    ([8.5, 7.4], 'Triangle'),\n",
    "    ([0.5, 1.9], 'Star')\n",
    "]\n",
    "n = 2\n",
    "input_x = [5, 4.5]\n",
    "\n",
    "print(nearNeighborsSet(data, 2, input_x, 'Star', n))"
   ]
  },
  {
   "cell_type": "code",
   "execution_count": 2,
   "metadata": {},
   "outputs": [
    {
     "name": "stdout",
     "output_type": "stream",
     "text": [
      "0\n"
     ]
    }
   ],
   "source": [
    "from collections import Counter\n",
    "\n",
    "def mostFreqLabel(data, k, input_x, y=None, n=0):\n",
    "    neighbors = nearNeighborsSet(data, k, input_x, y, n)  \n",
    "\n",
    "    # Get the labels of the neighbors\n",
    "    labels = [label for point, label in neighbors]\n",
    "\n",
    "    # Get the most common label\n",
    "    most_common_label = Counter(labels).most_common(1)[0][0]\n",
    "\n",
    "    return most_common_label\n",
    "\n",
    "\n",
    "from sklearn.datasets import load_iris\n",
    "X, y = load_iris(return_X_y=True)\n",
    "\n",
    "# Créer une liste de paires (x, y) à partir de X et y\n",
    "xy = list(zip(X, y))\n",
    "# print((xy))\n",
    "\n",
    "# Afficher les 5 premières paires\n",
    "# print(GenPromisingSubset(data=xy, n=2, x=[5.1, 3.5, 1.4, 0.2], y=0))\n",
    "print(mostFreqLabel(data=xy, k=1, input_x=[5.1, 3.5, 1.4, 0.2], y='0', n=2))"
   ]
  },
  {
   "cell_type": "code",
   "execution_count": 3,
   "metadata": {},
   "outputs": [
    {
     "name": "stdout",
     "output_type": "stream",
     "text": [
      "--- Triangle ---\n",
      "False\n"
     ]
    }
   ],
   "source": [
    "def QuickCertify(data, n, input_x):\n",
    "    label_set = [] # To store the most frequent labels for each value of K[^1^][1]\n",
    "    Kset = [1, 2, 3] # Set of K values\n",
    "\n",
    "    for k in Kset:\n",
    "        y = mostFreqLabel(data, k, input_x)\n",
    "        label_set.append(y)\n",
    "        \n",
    "        print('---', y, '---')\n",
    "        \n",
    "        # Most frequent label after removal[^2^][2]\n",
    "        y_prime = mostFreqLabel(data, k, input_x, y, n)\n",
    "\n",
    "        if y != y_prime:\n",
    "            return False\n",
    "\n",
    "        # If all the most frequent labels are not the same, return False\n",
    "        if len(set(label_set)) > 1:\n",
    "            return False\n",
    "        \n",
    "    return True\n",
    "\n",
    "data = [\n",
    "    ([1.2, 3.5], 'Star'),\n",
    "    ([2.5, 4.8], 'Star'),\n",
    "    ([3.7, 2.1], 'Star'),\n",
    "    ([5.1, 6.2], 'Triangle'),\n",
    "    ([6.9, 1.8], 'Triangle'),\n",
    "    ([7.5, 5.5], 'Triangle'),\n",
    "    ([9.2, 8.1], 'Star'),\n",
    "    ([8.5, 7.4], 'Triangle'),\n",
    "    ([0.5, 1.9], 'Star')\n",
    "]\n",
    "n = 2\n",
    "input_x = [5, 4.5]\n",
    "\n",
    "print(QuickCertify(data, n, input_x))"
   ]
  },
  {
   "cell_type": "code",
   "execution_count": null,
   "metadata": {},
   "outputs": [],
   "source": [
    "import matplotlib.pyplot as plt\n",
    "\n",
    "data = [\n",
    "    ([1.2, 3.5], 'Star'),\n",
    "    ([2.5, 4.8], 'Star'),\n",
    "    ([3.7, 2.1], 'Star'),\n",
    "    ([5.1, 6.2], 'Triangle'),\n",
    "    ([6.9, 1.8], 'Triangle'),\n",
    "    ([7.5, 5.5], 'Triangle'),\n",
    "    ([9.2, 8.1], 'Star'),\n",
    "    ([8.5, 7.4], 'Triangle'),\n",
    "    ([0.5, 1.9], 'Star')\n",
    "]\n",
    "\n",
    "for point in data:\n",
    "    if point[1] == 'Star':\n",
    "        plt.scatter(point[0][0], point[0][1], color='red')\n",
    "    elif point[1] == 'Triangle':\n",
    "        plt.scatter(point[0][0], point[0][1], color='blue')\n",
    "    elif point[1] == 'Square':\n",
    "        plt.scatter(point[0][0], point[0][1], color='green')\n",
    "\n",
    "plt.show()\n"
   ]
  }
 ],
 "metadata": {
  "kernelspec": {
   "display_name": "Python 3",
   "language": "python",
   "name": "python3"
  },
  "language_info": {
   "codemirror_mode": {
    "name": "ipython",
    "version": 3
   },
   "file_extension": ".py",
   "mimetype": "text/x-python",
   "name": "python",
   "nbconvert_exporter": "python",
   "pygments_lexer": "ipython3",
   "version": "3.12.0"
  }
 },
 "nbformat": 4,
 "nbformat_minor": 2
}
