{
 "cells": [
  {
   "cell_type": "markdown",
   "metadata": {},
   "source": [
    "Il s'agit ici de la fonction QuickCertify qui est la premiere etape de notre methode de Test Systematique de la robustesse des modeles KNN. Ici, a partir de certaines conditions, nous verifions la robustesse. Ces conditions suffisantes sont conçues pour éviter l’étape la plus coûteuse de l’algorithme KNN, qui est la phase d’apprentissage qui s’appuie sur des validations croisées p-fold pour calculer le paramètre K optimal."
   ]
  },
  {
   "cell_type": "code",
   "execution_count": null,
   "metadata": {},
   "outputs": [],
   "source": [
    "import numpy as np\n",
    "\n",
    "# Cette fonction calcule la distance euclidienne entre deux points\n",
    "def euclidean_distance(point1, point2):\n",
    "    point1, point2 = np.array(point1), np.array(point2)\n",
    "    return np.sqrt(np.sum((point1 - point2) ** 2))\n"
   ]
  },
  {
   "cell_type": "code",
   "execution_count": null,
   "metadata": {},
   "outputs": [],
   "source": [
    "from collections import Counter\n",
    "\n",
    "# Calculer la distance euclidienne entre les points du dataset pour pouvoir les comparer et obtenir le label le plus fréquent dans les k plus proches voisins\n",
    "def mostFreqLabel(data, k, input_x, y=None, n=None):\n",
    "    # Calculate the distance between input_x and all points in the data\n",
    "    distances = [(euclidean_distance(input_x, x), label) for x, label in data]\n",
    "\n",
    "\n",
    "    # Calculer le removal set \n",
    "    if y is not None:\n",
    "        \n",
    "        # Sort the distances and get the labels of the k+n nearest neighbors\n",
    "        if n is not None :\n",
    "            labels = [label for _, label in sorted(distances)[:k+n]]\n",
    "            # Supprimer n éléments ayant pour label y\n",
    "            count = 0\n",
    "            j = len(labels) - 1  # Commencer par la fin de la liste\n",
    "            while count < n and j >= 0:\n",
    "                if labels[j] == y:\n",
    "                    labels.pop(j)\n",
    "                    count += 1\n",
    "                j -= 1\n",
    "        else:\n",
    "            # Erreur dans les parametres de la fonction \n",
    "            print(\"Erreur dans les parametres de la fonction\")\n",
    "            exit()\n",
    "    else:\n",
    "        # Sort the distances and get the labels of the k nearest neighbors\n",
    "        labels = [label for _, label in sorted(distances)[:k]]        \n",
    "\n",
    "    # Get the most common label\n",
    "    most_common_label = Counter(labels).most_common(1)[0][0]\n",
    "\n",
    "    return most_common_label\n"
   ]
  },
  {
   "cell_type": "code",
   "execution_count": 3,
   "metadata": {},
   "outputs": [
    {
     "name": "stdout",
     "output_type": "stream",
     "text": [
      "1\n",
      "2\n",
      "3\n"
     ]
    }
   ],
   "source": [
    "def QuickCertify(data, n, input_x):\n",
    "    label_set = {} # To store the most frequent labels for each value of K[^1^][1]\n",
    "    K = {1, 2, 3} # Set of K values\n",
    "\n",
    "    for k in K:\n",
    "        y = mostFreqLabel(data, k, input_x)\n",
    "        label_set.append(y)\n",
    "\n",
    "        # Most frequent label after removal[^2^][2]\n",
    "        y_prime = mostFreqLabel(data, k, input_x, y, n)\n",
    "\n",
    "        if y != y_prime:\n",
    "            return False\n",
    "\n",
    "        if len(label_set) > 1:\n",
    "            return False\n",
    "\n",
    "    return True"
   ]
  }
 ],
 "metadata": {
  "kernelspec": {
   "display_name": "Python 3",
   "language": "python",
   "name": "python3"
  },
  "language_info": {
   "codemirror_mode": {
    "name": "ipython",
    "version": 3
   },
   "file_extension": ".py",
   "mimetype": "text/x-python",
   "name": "python",
   "nbconvert_exporter": "python",
   "pygments_lexer": "ipython3",
   "version": "3.12.2"
  }
 },
 "nbformat": 4,
 "nbformat_minor": 2
}
