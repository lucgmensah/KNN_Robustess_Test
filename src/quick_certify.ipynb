{
 "cells": [
  {
   "cell_type": "markdown",
   "metadata": {},
   "source": [
    "Il s'agit ici de la fonction QuickCertify qui est la premiere etape de notre methode de Test Systematique de la robustesse des modeles KNN. Ici, a partir de certaines conditions, nous verifions la robustesse. Ces conditions suffisantes sont conçues pour éviter l’étape la plus coûteuse de l’algorithme KNN, qui est la phase d’apprentissage qui s’appuie sur des validations croisées p-fold pour calculer le paramètre K optimal."
   ]
  },
  {
   "cell_type": "code",
   "execution_count": 20,
   "metadata": {},
   "outputs": [],
   "source": [
    "from sklearn.neighbors import KDTree\n",
    "from collections import Counter\n",
    "import numpy as np\n"
   ]
  },
  {
   "cell_type": "code",
   "execution_count": 21,
   "metadata": {},
   "outputs": [],
   "source": [
    "def nearNeighborsSetKD(data, labels, k, input_x, y=None, n=0):\n",
    "    tree = KDTree(data)  # Construit un arbre KD à partir des points\n",
    "    dists, indices = tree.query([input_x], k=k+n)  # Trouve les k+n voisins les plus proches\n",
    "    \n",
    "    neighbors = [(data[i], labels[i]) for i in indices[0]]  # Récupère les voisins avant suppression\n",
    "    \n",
    "    if y is not None and n > 0:\n",
    "        # Filtrer pour supprimer n éléments avec le label y parmi les k+n voisins\n",
    "        neighbors_filtered = [neighbor for neighbor in neighbors if neighbor[1] != y][:k] + \\\n",
    "                             [neighbor for neighbor in neighbors if neighbor[1] == y][:-n]\n",
    "        neighbors = neighbors_filtered[:k]\n",
    "\n",
    "    return neighbors"
   ]
  },
  {
   "cell_type": "code",
   "execution_count": 22,
   "metadata": {},
   "outputs": [],
   "source": [
    "def mostFreqLabelKD(data, labels, k, input_x, y=None, n=0):\n",
    "    neighbors = nearNeighborsSetKD(data, labels, k, input_x, y, n)\n",
    "    neighbor_labels = [label for _, label in neighbors]\n",
    "    return Counter(neighbor_labels).most_common(1)[0][0]"
   ]
  },
  {
   "cell_type": "code",
   "execution_count": 23,
   "metadata": {},
   "outputs": [],
   "source": [
    "def QuickCertifyKD(data, labels, n, input_x, y):\n",
    "    label_set = []\n",
    "    Kset = [1, 2, 3]  # Ensemble de valeurs de K à tester\n",
    "\n",
    "    for k in Kset:\n",
    "        # Obtenir l'étiquette la plus fréquente sans suppression\n",
    "        y_initial = mostFreqLabelKD(data, labels, k, input_x)\n",
    "        label_set.append(y_initial)\n",
    "        # Obtenir l'étiquette la plus fréquente avec suppression de n éléments de label y\n",
    "        y_after_removal = mostFreqLabelKD(data, labels, k, input_x, y, n)\n",
    "\n",
    "        if y_initial != y_after_removal:\n",
    "            return False\n",
    "        \n",
    "        if len(label_set) != 1:\n",
    "            return False\n",
    "\n",
    "    return True"
   ]
  },
  {
   "cell_type": "code",
   "execution_count": 25,
   "metadata": {},
   "outputs": [
    {
     "data": {
      "text/plain": [
       "False"
      ]
     },
     "execution_count": 25,
     "metadata": {},
     "output_type": "execute_result"
    }
   ],
   "source": [
    "# Charger l'ensemble de données Iris\n",
    "X, y = load_iris(return_X_y=True)\n",
    "\n",
    "# Exemple d'utilisation avec l'ensemble de données Iris\n",
    "input_x = X[50]  # Utiliser un élément de l'ensemble Iris comme exemple\n",
    "n = 5  # Nombre d'éléments à considérer comme potentiellement empoisonnés\n",
    "label_y = y[50]  # Utiliser le label réel de l'input_x comme exemple de label à supprimer\n",
    "\n",
    "# Appliquer QuickCertifyKD sur l'ensemble de données Iris\n",
    "result = QuickCertifyKD(X, y, n, input_x, label_y)\n",
    "result"
   ]
  }
 ],
 "metadata": {
  "kernelspec": {
   "display_name": "Python 3",
   "language": "python",
   "name": "python3"
  },
  "language_info": {
   "codemirror_mode": {
    "name": "ipython",
    "version": 3
   },
   "file_extension": ".py",
   "mimetype": "text/x-python",
   "name": "python",
   "nbconvert_exporter": "python",
   "pygments_lexer": "ipython3",
   "version": "3.12.0"
  }
 },
 "nbformat": 4,
 "nbformat_minor": 2
}
